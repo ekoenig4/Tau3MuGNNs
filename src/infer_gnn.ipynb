{
 "cells": [
  {
   "cell_type": "code",
   "execution_count": 22,
   "metadata": {},
   "outputs": [],
   "source": [
    "import yaml\n",
    "from pathlib import Path\n",
    "from utils import get_data_loaders, load_checkpoint, log_epoch, Criterion, add_cuts_to_config\n",
    "import torch\n",
    "from models import Model\n",
    "from tqdm import tqdm\n",
    "import pandas as pd\n",
    "import numpy as np\n",
    "import os"
   ]
  },
  {
   "cell_type": "code",
   "execution_count": 19,
   "metadata": {},
   "outputs": [],
   "source": [
    "cuda_id = 3\n",
    "# log_name = '05_17_2022_22_08_41-GNN_full_dR_1'  # log id of the saved model to load\n",
    "log_name = '05_17_2022_22_08_02-GNN_half_dR_1'  # log id of the saved model to load\n",
    "\n",
    "setting = log_name.split('-')[1]\n",
    "\n",
    "config = yaml.safe_load(Path(f'./configs/{setting}.yml').open('r'))\n",
    "device = torch.device(f'cuda:{cuda_id}' if cuda_id >= 0 else 'cpu')\n",
    "log_path = Path(config['data']['log_dir']) / log_name\n",
    "\n",
    "if len(log_name.split('-')) > 2:\n",
    "    cut_id = log_name.split('-')[2]\n",
    "    config = add_cuts_to_config(config, cut_id)"
   ]
  },
  {
   "cell_type": "code",
   "execution_count": 20,
   "metadata": {},
   "outputs": [
    {
     "name": "stdout",
     "output_type": "stream",
     "text": [
      "[Splits]\n",
      "    train: 332406. # pos: 55401, # neg: 277005. Pos:Neg: 0.200\n",
      "    valid: 71226. # pos: 11871, # neg: 59355. Pos:Neg: 0.200\n",
      "    test: 674713. # pos: 11873, # neg: 662840. Pos:Neg: 0.018\n"
     ]
    }
   ],
   "source": [
    "data_loaders, x_dim, edge_attr_dim, dataset = get_data_loaders(setting, config['data'], config['optimizer']['batch_size'])"
   ]
  },
  {
   "cell_type": "code",
   "execution_count": 15,
   "metadata": {},
   "outputs": [
    {
     "data": {
      "text/plain": [
       "(578745, 1078345)"
      ]
     },
     "execution_count": 15,
     "metadata": {},
     "output_type": "execute_result"
    }
   ],
   "source": [
    "df = pd.read_pickle(dataset.get_df_save_path())\n",
    "len(df), len(dataset)"
   ]
  },
  {
   "cell_type": "code",
   "execution_count": 16,
   "metadata": {},
   "outputs": [
    {
     "name": "stdout",
     "output_type": "stream",
     "text": [
      "[INFO] Loading checkpoint from 05_17_2022_22_08_02-GNN_half_dR_1\n"
     ]
    }
   ],
   "source": [
    "model = Model(x_dim, edge_attr_dim, config['data']['virtual_node'], config['model']).to(device)\n",
    "optimizer = torch.optim.AdamW(model.parameters(), lr=config['optimizer']['lr'])\n",
    "load_checkpoint(model, optimizer, log_path, device)\n",
    "criterion = Criterion(config['optimizer'])"
   ]
  },
  {
   "cell_type": "code",
   "execution_count": 17,
   "metadata": {},
   "outputs": [],
   "source": [
    "@torch.no_grad()\n",
    "def eval_one_batch(data, model, criterion):\n",
    "    model.eval()\n",
    "\n",
    "    clf_logits = model(x=data.x, edge_index=data.edge_index, edge_attr=data.edge_attr, batch=data.batch, data=data)\n",
    "    loss, loss_dict = criterion(clf_logits.sigmoid(), data.y)\n",
    "    return loss_dict, clf_logits.data.cpu()\n",
    "\n",
    "\n",
    "def run_one_epoch(data_loader, epoch, phase, device, model, criterion):\n",
    "    loader_len = len(data_loader)\n",
    "    run_one_batch = eval_one_batch\n",
    "    phase = 'test ' if phase == 'test' else phase  # align tqdm desc bar\n",
    "\n",
    "    all_loss_dict, all_clf_logits, all_clf_labels, all_sample_idx, all_endcap = {}, [], [], [], []\n",
    "    pbar = tqdm(data_loader, total=loader_len)\n",
    "    for idx, data in enumerate(pbar):\n",
    "        loss_dict, clf_logits = run_one_batch(data.to(device), model, criterion)\n",
    "\n",
    "        desc = log_epoch(epoch, phase, loss_dict, clf_logits, data.y.data.cpu(), batch=True)\n",
    "        for k, v in loss_dict.items():\n",
    "            all_loss_dict[k] = all_loss_dict.get(k, 0) + v\n",
    "        all_clf_logits.append(clf_logits), all_clf_labels.append(data.y.data.cpu())\n",
    "        all_sample_idx.append(data.sample_idx.data.cpu()), all_endcap.append(data.endcap.data.cpu())\n",
    "\n",
    "        if idx == loader_len - 1:\n",
    "            all_clf_logits, all_clf_labels = torch.cat(all_clf_logits), torch.cat(all_clf_labels)\n",
    "            all_sample_idx, all_endcap = torch.cat(all_sample_idx), torch.cat(all_endcap)\n",
    "            phase_idx = [phase.strip()] * len(all_sample_idx)\n",
    "            for k, v in all_loss_dict.items():\n",
    "                all_loss_dict[k] = v / loader_len\n",
    "            desc, auroc, recall, avg_loss = log_epoch(epoch, phase, all_loss_dict, all_clf_logits, all_clf_labels, False, None)\n",
    "        pbar.set_description(desc)\n",
    "\n",
    "    return avg_loss, auroc, recall, all_clf_logits, all_sample_idx, all_endcap, phase_idx"
   ]
  },
  {
   "cell_type": "code",
   "execution_count": 18,
   "metadata": {},
   "outputs": [
    {
     "name": "stderr",
     "output_type": "stream",
     "text": [
      "[Epoch: 999]: train finished, focal: 0.002, total: 0.002, auroc: 0.982, recall@maxfpr: 0.652: 100%|██████████| 1299/1299 [00:44<00:00, 29.00it/s]\n",
      "[Epoch: 999]: valid finished, focal: 0.003, total: 0.003, auroc: 0.930, recall@maxfpr: 0.469: 100%|██████████| 279/279 [00:10<00:00, 27.51it/s]\n",
      "[Epoch: 999]: test  finished, focal: 0.002, total: 0.002, auroc: 0.934, recall@maxfpr: 0.469: 100%|██████████| 2636/2636 [01:34<00:00, 27.97it/s]\n"
     ]
    }
   ],
   "source": [
    "clf_probs, all_sample_idx, all_endcap, all_phase_idx = [], [], [], []\n",
    "for phase in ['train', 'valid', 'test']:\n",
    "    avg_loss, auroc, recall, clf_logits, sample_idx, endcap, phase_idx = run_one_epoch(data_loaders[phase], 999, phase, device, model, criterion)\n",
    "    clf_probs.append(clf_logits.sigmoid())\n",
    "    all_sample_idx.append(sample_idx)\n",
    "    all_endcap.append(endcap)\n",
    "    all_phase_idx.extend(phase_idx)\n",
    "\n",
    "clf_probs = torch.cat(clf_probs)\n",
    "all_sample_idx = torch.cat(all_sample_idx)\n",
    "all_endcap = torch.cat(all_endcap)\n",
    "all_phase_idx = np.array(all_phase_idx)"
   ]
  },
  {
   "cell_type": "code",
   "execution_count": 19,
   "metadata": {},
   "outputs": [],
   "source": [
    "scores = pd.DataFrame({'sample_idx': all_sample_idx, 'probs': clf_probs.reshape(-1), 'endcap': all_endcap, 'phase': all_phase_idx})\n",
    "scores['score_dict'] = scores.apply(lambda x: {x['endcap']: x['probs']}, axis=1)\n",
    "scores['phase_dict'] = scores.apply(lambda x: {x['endcap']: x['phase']}, axis=1)\n",
    "scores = scores.sort_values('sample_idx').reset_index(drop=True)"
   ]
  },
  {
   "cell_type": "code",
   "execution_count": 20,
   "metadata": {},
   "outputs": [],
   "source": [
    "def agg_endcap(x):\n",
    "    res = {}\n",
    "    for each in x:\n",
    "        res = res | each\n",
    "    return res"
   ]
  },
  {
   "cell_type": "code",
   "execution_count": 21,
   "metadata": {},
   "outputs": [],
   "source": [
    "agg_scores = scores.groupby('sample_idx')[['score_dict', 'phase_dict']].agg({'score_dict': agg_endcap, 'phase_dict': agg_endcap})\n",
    "assert len(agg_scores) == len(df)"
   ]
  },
  {
   "cell_type": "code",
   "execution_count": 22,
   "metadata": {},
   "outputs": [],
   "source": [
    "agg_scores.to_pickle(dataset.get_df_save_path().parent / f'{setting}-scores.pkl')"
   ]
  },
  {
   "cell_type": "code",
   "execution_count": 23,
   "metadata": {},
   "outputs": [
    {
     "data": {
      "text/html": [
       "<div>\n",
       "<style scoped>\n",
       "    .dataframe tbody tr th:only-of-type {\n",
       "        vertical-align: middle;\n",
       "    }\n",
       "\n",
       "    .dataframe tbody tr th {\n",
       "        vertical-align: top;\n",
       "    }\n",
       "\n",
       "    .dataframe thead th {\n",
       "        text-align: right;\n",
       "    }\n",
       "</style>\n",
       "<table border=\"1\" class=\"dataframe\">\n",
       "  <thead>\n",
       "    <tr style=\"text-align: right;\">\n",
       "      <th></th>\n",
       "      <th>score_dict</th>\n",
       "      <th>phase_dict</th>\n",
       "    </tr>\n",
       "    <tr>\n",
       "      <th>sample_idx</th>\n",
       "      <th></th>\n",
       "      <th></th>\n",
       "    </tr>\n",
       "  </thead>\n",
       "  <tbody>\n",
       "    <tr>\n",
       "      <th>0</th>\n",
       "      <td>{-1: 0.713186502456665}</td>\n",
       "      <td>{-1: 'train'}</td>\n",
       "    </tr>\n",
       "    <tr>\n",
       "      <th>1</th>\n",
       "      <td>{-1: 0.4296315610408783}</td>\n",
       "      <td>{-1: 'train'}</td>\n",
       "    </tr>\n",
       "    <tr>\n",
       "      <th>2</th>\n",
       "      <td>{1: 0.3982222378253937}</td>\n",
       "      <td>{1: 'test'}</td>\n",
       "    </tr>\n",
       "    <tr>\n",
       "      <th>3</th>\n",
       "      <td>{-1: 0.7315517067909241}</td>\n",
       "      <td>{-1: 'train'}</td>\n",
       "    </tr>\n",
       "    <tr>\n",
       "      <th>4</th>\n",
       "      <td>{-1: 0.648301362991333}</td>\n",
       "      <td>{-1: 'train'}</td>\n",
       "    </tr>\n",
       "    <tr>\n",
       "      <th>...</th>\n",
       "      <td>...</td>\n",
       "      <td>...</td>\n",
       "    </tr>\n",
       "    <tr>\n",
       "      <th>578740</th>\n",
       "      <td>{1: 0.3504749536514282, -1: 0.4642656445503235}</td>\n",
       "      <td>{1: 'test', -1: 'test'}</td>\n",
       "    </tr>\n",
       "    <tr>\n",
       "      <th>578741</th>\n",
       "      <td>{-1: 0.42664122581481934, 1: 0.3977721929550171}</td>\n",
       "      <td>{-1: 'train', 1: 'test'}</td>\n",
       "    </tr>\n",
       "    <tr>\n",
       "      <th>578742</th>\n",
       "      <td>{1: 0.2887461185455322, -1: 0.46535834670066833}</td>\n",
       "      <td>{1: 'test', -1: 'test'}</td>\n",
       "    </tr>\n",
       "    <tr>\n",
       "      <th>578743</th>\n",
       "      <td>{1: 0.34047433733940125, -1: 0.3511676490306854}</td>\n",
       "      <td>{1: 'train', -1: 'test'}</td>\n",
       "    </tr>\n",
       "    <tr>\n",
       "      <th>578744</th>\n",
       "      <td>{-1: 0.46535834670066833, 1: 0.3017183840274811}</td>\n",
       "      <td>{-1: 'test', 1: 'test'}</td>\n",
       "    </tr>\n",
       "  </tbody>\n",
       "</table>\n",
       "<p>578745 rows × 2 columns</p>\n",
       "</div>"
      ],
      "text/plain": [
       "                                                  score_dict  \\\n",
       "sample_idx                                                     \n",
       "0                                    {-1: 0.713186502456665}   \n",
       "1                                   {-1: 0.4296315610408783}   \n",
       "2                                    {1: 0.3982222378253937}   \n",
       "3                                   {-1: 0.7315517067909241}   \n",
       "4                                    {-1: 0.648301362991333}   \n",
       "...                                                      ...   \n",
       "578740       {1: 0.3504749536514282, -1: 0.4642656445503235}   \n",
       "578741      {-1: 0.42664122581481934, 1: 0.3977721929550171}   \n",
       "578742      {1: 0.2887461185455322, -1: 0.46535834670066833}   \n",
       "578743      {1: 0.34047433733940125, -1: 0.3511676490306854}   \n",
       "578744      {-1: 0.46535834670066833, 1: 0.3017183840274811}   \n",
       "\n",
       "                          phase_dict  \n",
       "sample_idx                            \n",
       "0                      {-1: 'train'}  \n",
       "1                      {-1: 'train'}  \n",
       "2                        {1: 'test'}  \n",
       "3                      {-1: 'train'}  \n",
       "4                      {-1: 'train'}  \n",
       "...                              ...  \n",
       "578740       {1: 'test', -1: 'test'}  \n",
       "578741      {-1: 'train', 1: 'test'}  \n",
       "578742       {1: 'test', -1: 'test'}  \n",
       "578743      {1: 'train', -1: 'test'}  \n",
       "578744       {-1: 'test', 1: 'test'}  \n",
       "\n",
       "[578745 rows x 2 columns]"
      ]
     },
     "execution_count": 23,
     "metadata": {},
     "output_type": "execute_result"
    }
   ],
   "source": [
    "agg_scores"
   ]
  },
  {
   "cell_type": "code",
   "execution_count": null,
   "metadata": {},
   "outputs": [],
   "source": []
  },
  {
   "cell_type": "markdown",
   "metadata": {},
   "source": [
    "# Merge scores of different models"
   ]
  },
  {
   "cell_type": "code",
   "execution_count": 29,
   "metadata": {},
   "outputs": [],
   "source": [
    "all_scores = os.listdir(dataset.get_df_save_path().parent)\n",
    "all_scores = [dataset.get_df_save_path().parent / each for each in all_scores if 'GNN' in each]"
   ]
  },
  {
   "cell_type": "code",
   "execution_count": 30,
   "metadata": {},
   "outputs": [],
   "source": [
    "merged_df = []\n",
    "for score_file in all_scores:\n",
    "    setting_name = score_file.name.split('-')[0]\n",
    "    model_score = pd.read_pickle(score_file)\n",
    "    model_score = model_score.rename(columns={'score_dict': f'{setting_name}-score_dict', 'phase_dict': f'{setting_name}-phase_dict'})\n",
    "    merged_df.append(model_score)\n",
    "merged_df = pd.concat(merged_df, axis=1)"
   ]
  },
  {
   "cell_type": "code",
   "execution_count": 31,
   "metadata": {},
   "outputs": [
    {
     "data": {
      "text/html": [
       "<div>\n",
       "<style scoped>\n",
       "    .dataframe tbody tr th:only-of-type {\n",
       "        vertical-align: middle;\n",
       "    }\n",
       "\n",
       "    .dataframe tbody tr th {\n",
       "        vertical-align: top;\n",
       "    }\n",
       "\n",
       "    .dataframe thead th {\n",
       "        text-align: right;\n",
       "    }\n",
       "</style>\n",
       "<table border=\"1\" class=\"dataframe\">\n",
       "  <thead>\n",
       "    <tr style=\"text-align: right;\">\n",
       "      <th></th>\n",
       "      <th>GNN_full_dR_1-score_dict</th>\n",
       "      <th>GNN_full_dR_1-phase_dict</th>\n",
       "      <th>GNN_half_dR_1-score_dict</th>\n",
       "      <th>GNN_half_dR_1-phase_dict</th>\n",
       "    </tr>\n",
       "    <tr>\n",
       "      <th>sample_idx</th>\n",
       "      <th></th>\n",
       "      <th></th>\n",
       "      <th></th>\n",
       "      <th></th>\n",
       "    </tr>\n",
       "  </thead>\n",
       "  <tbody>\n",
       "    <tr>\n",
       "      <th>0</th>\n",
       "      <td>{0: 0.6919082999229431}</td>\n",
       "      <td>{0: 'train'}</td>\n",
       "      <td>{-1: 0.713186502456665}</td>\n",
       "      <td>{-1: 'train'}</td>\n",
       "    </tr>\n",
       "    <tr>\n",
       "      <th>1</th>\n",
       "      <td>{0: 0.9665076732635498}</td>\n",
       "      <td>{0: 'train'}</td>\n",
       "      <td>{-1: 0.4296315610408783}</td>\n",
       "      <td>{-1: 'train'}</td>\n",
       "    </tr>\n",
       "    <tr>\n",
       "      <th>2</th>\n",
       "      <td>{0: 0.74058997631073}</td>\n",
       "      <td>{0: 'test'}</td>\n",
       "      <td>{1: 0.3982222378253937}</td>\n",
       "      <td>{1: 'test'}</td>\n",
       "    </tr>\n",
       "    <tr>\n",
       "      <th>3</th>\n",
       "      <td>{0: 0.8157235383987427}</td>\n",
       "      <td>{0: 'train'}</td>\n",
       "      <td>{-1: 0.7315517067909241}</td>\n",
       "      <td>{-1: 'train'}</td>\n",
       "    </tr>\n",
       "    <tr>\n",
       "      <th>4</th>\n",
       "      <td>{0: 0.963468074798584}</td>\n",
       "      <td>{0: 'train'}</td>\n",
       "      <td>{-1: 0.648301362991333}</td>\n",
       "      <td>{-1: 'train'}</td>\n",
       "    </tr>\n",
       "  </tbody>\n",
       "</table>\n",
       "</div>"
      ],
      "text/plain": [
       "           GNN_full_dR_1-score_dict GNN_full_dR_1-phase_dict  \\\n",
       "sample_idx                                                     \n",
       "0           {0: 0.6919082999229431}             {0: 'train'}   \n",
       "1           {0: 0.9665076732635498}             {0: 'train'}   \n",
       "2             {0: 0.74058997631073}              {0: 'test'}   \n",
       "3           {0: 0.8157235383987427}             {0: 'train'}   \n",
       "4            {0: 0.963468074798584}             {0: 'train'}   \n",
       "\n",
       "            GNN_half_dR_1-score_dict GNN_half_dR_1-phase_dict  \n",
       "sample_idx                                                     \n",
       "0            {-1: 0.713186502456665}            {-1: 'train'}  \n",
       "1           {-1: 0.4296315610408783}            {-1: 'train'}  \n",
       "2            {1: 0.3982222378253937}              {1: 'test'}  \n",
       "3           {-1: 0.7315517067909241}            {-1: 'train'}  \n",
       "4            {-1: 0.648301362991333}            {-1: 'train'}  "
      ]
     },
     "execution_count": 31,
     "metadata": {},
     "output_type": "execute_result"
    }
   ],
   "source": [
    "merged_df.head()"
   ]
  },
  {
   "cell_type": "code",
   "execution_count": 21,
   "metadata": {},
   "outputs": [],
   "source": [
    "merged_df.to_pickle(dataset.get_df_save_path().parent / f'merged-scores.pkl')"
   ]
  },
  {
   "cell_type": "code",
   "execution_count": null,
   "metadata": {},
   "outputs": [],
   "source": []
  }
 ],
 "metadata": {
  "interpreter": {
   "hash": "45135e56c447e54bdb1e1c0bb84ad415b64665bf9f8fb7efb25fee4420f52c63"
  },
  "kernelspec": {
   "display_name": "Python 3.9.7 ('tau3mu')",
   "language": "python",
   "name": "python3"
  },
  "language_info": {
   "codemirror_mode": {
    "name": "ipython",
    "version": 3
   },
   "file_extension": ".py",
   "mimetype": "text/x-python",
   "name": "python",
   "nbconvert_exporter": "python",
   "pygments_lexer": "ipython3",
   "version": "3.9.7"
  },
  "orig_nbformat": 4
 },
 "nbformat": 4,
 "nbformat_minor": 2
}
